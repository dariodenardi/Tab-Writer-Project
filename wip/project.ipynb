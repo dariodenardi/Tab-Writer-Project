{
 "cells": [
  {
   "cell_type": "code",
   "execution_count": 1,
   "metadata": {},
   "outputs": [],
   "source": [
    "import jams\n",
    "import os\n",
    "import numpy as np\n",
    "import librosa\n",
    "import librosa.display\n",
    "import matplotlib.pyplot as plt\n",
    "import time"
   ]
  },
  {
   "cell_type": "code",
   "execution_count": 2,
   "metadata": {},
   "outputs": [],
   "source": [
    "def audio_CQT(file_num, start, dur):  # start and dur in seconds\n",
    "\n",
    "    # Load audio and define paths\n",
    "    path = r'/home/gabriele/Scrivania/tab-writer/GuitarSet Zenodo/version-110/audio_hex-pickup_debleeded/'\n",
    "    audio_file = os.listdir(path)\n",
    "    audio_path = os.path.join(path, audio_file[file_num])\n",
    "\n",
    "    # Function for removing noise\n",
    "    def cqt_lim(CQT):\n",
    "        new_CQT = np.copy(CQT)\n",
    "        new_CQT[new_CQT < -60] = -120\n",
    "        return new_CQT\n",
    "\n",
    "    # Perform the Constant-Q Transform\n",
    "    data, sr = librosa.load(audio_path, sr = None, mono = True, offset = start, duration = dur)\n",
    "    CQT = librosa.cqt(data, sr = 44100, hop_length = 1024, fmin = None, n_bins = 96, bins_per_octave = 12)\n",
    "    CQT_mag = librosa.magphase(CQT)[0]**4\n",
    "    CQTdB = librosa.core.amplitude_to_db(CQT_mag, ref = np.amax)\n",
    "    new_CQT = cqt_lim(CQTdB)\n",
    "\n",
    "    return new_CQT"
   ]
  },
  {
   "cell_type": "code",
   "execution_count": 3,
   "metadata": {},
   "outputs": [
    {
     "data": {
      "image/png": "[encoded data removed]",
      "text/plain": [
       "<Figure size 1080x360 with 2 Axes>"
      ]
     },
     "metadata": {
      "needs_background": "light"
     },
     "output_type": "display_data"
    }
   ],
   "source": [
    "new_CQT = audio_CQT(13,0.2,0.5)\n",
    "\n",
    "plt.figure(figsize=(15,5))\n",
    "\n",
    "#librosa.display.specshow(new_CQT, cmap='YlOrBr', fmin=librosa.note_to_hz('C1'), x_axis='time', y_axis='cqt_note')\n",
    "librosa.display.specshow(new_CQT, cmap='gray_r', fmin=librosa.note_to_hz('C1'), x_axis='time', y_axis='cqt_note')\n",
    "\n",
    "plt.colorbar(format='%+2.0f dB')\n",
    "plt.tight_layout()\n",
    "plt.show()"
   ]
  },
  {
   "cell_type": "markdown",
   "metadata": {},
   "source": [
    "For each Constant-Q transform image, there must be a solution so that the network can adjust its guesses. Luckily, the GuitarSet data set contains all the notes played as MIDI values, time each note begins in the recording, and duration of the note for each audio file. Note: The following code snippets were placed in a function such that they could be used for every 0.2 seconds of audio.\n",
    "\n",
    "First, the unique notes (retrieved as MIDI notes) being played during the 0.2 seconds of audio loaded must be extracted from the jams files."
   ]
  },
  {
   "cell_type": "markdown",
   "metadata": {},
   "source": [
    "## UniqueNotes.py"
   ]
  },
  {
   "cell_type": "code",
   "execution_count": 6,
   "metadata": {},
   "outputs": [
    {
     "name": "stdout",
     "output_type": "stream",
     "text": [
      "[[ 0.928615    0.6153288  47.994537  ]\n",
      " [ 1.54959     0.80108845 47.98121   ]\n",
      " [ 2.3592951   0.42956915 48.013557  ]\n",
      " ...\n",
      " [28.045101    0.1044898  72.02866   ]\n",
      " [28.172674    0.17995465 72.01724   ]\n",
      " [28.451109    0.24380952 72.03502   ]]\n"
     ]
    }
   ],
   "source": [
    "# Initialize variables\n",
    "cnt_row = -1\n",
    "cnt_col = 0\n",
    "cnt_zero = 0\n",
    "#jam = MIDI_dat <------- (or the variable from which you are accessing the data from)\n",
    "#jam = []\n",
    "\n",
    "start = 0.02\n",
    "stop = 0.05\n",
    "\n",
    "path = \"/home/gabriele/Scrivania/tab-writer/GuitarSet Zenodo/version-110/annotation/\"\n",
    "extension = \"jams\"\n",
    "excerpt = \"00_Funk1-97-C_comp\"\n",
    "\n",
    "jam = jams.load('/home/gabriele/Scrivania/tab-writer/GuitarSet Zenodo/version-110/annotation/' + excerpt + '.jams')\n",
    "\n",
    "# Initialize variables\n",
    "cnt_row = -1\n",
    "cnt_col = 0\n",
    "cnt_zero = 0\n",
    "\n",
    "# Grab all relevant MIDI data (available in MIDI_dat)\n",
    "for i in range(0, len(jam['annotations'])):\n",
    "    if jam['annotations'][int(i)]['namespace'] == 'note_midi':\n",
    "        for j in range(0, len(sorted(jam['annotations'][int(i)]['data']))):\n",
    "            cnt_row = cnt_row + 1\n",
    "            for k in range(0, len(sorted(jam['annotations'][int(i)]['data'])[int(j)]) - 1):\n",
    "                if cnt_zero == 0:\n",
    "                    MIDI_arr = np.zeros((len(sorted(jam['annotations'][int(i)]['data'])), len(sorted(jam['annotations'][int(i)]['data'])[int(j)]) - 1), dtype = np.float32)\n",
    "                    cnt_zero = cnt_zero + 1\n",
    "                if cnt_zero > 0:\n",
    "                    MIDI_arr = np.vstack((MIDI_arr, np.zeros((len(sorted(jam['annotations'][int(i)]['data'])), len(sorted(jam['annotations'][int(i)]['data'])[int(j)]) - 1), dtype = np.float32)))\n",
    "                    cnt_zero = cnt_zero + 1  # Keep\n",
    "                if cnt_col > 2:\n",
    "                    cnt_col = 0\n",
    "                MIDI_arr[cnt_row, cnt_col] = sorted(jam['annotations'][int(i)]['data'])[int(j)][int(k)]\n",
    "                cnt_col = cnt_col + 1\n",
    "MIDI_dat = np.zeros((cnt_row + 1, cnt_col), dtype = np.float32)\n",
    "cnt_col2 = 0\n",
    "for n in range(0, cnt_row + 1):\n",
    "    for m in range(0, cnt_col):\n",
    "        if cnt_col2 > 2:\n",
    "            cnt_col2 = 0\n",
    "        MIDI_dat[n, cnt_col2] = MIDI_arr[n, cnt_col2]\n",
    "        cnt_col2 = cnt_col2 + 1\n",
    "\n",
    "print(MIDI_dat)   "
   ]
  },
  {
   "cell_type": "code",
   "execution_count": 7,
   "metadata": {},
   "outputs": [
    {
     "name": "stdout",
     "output_type": "stream",
     "text": [
      "[3.8569614e-02 3.9473924e-01 5.5225471e+01]\n",
      "[3.92272100e-02 1.04489796e-01 5.81161194e+01]\n",
      "[4.1948300e-02 3.3088437e-01 6.4108139e+01]\n",
      "[55. 58. 64.]\n"
     ]
    }
   ],
   "source": [
    "# Return the unique MIDI notes played (available in MIDI_val)\n",
    "MIDI_dat_dur = np.copy(MIDI_dat)\n",
    "for r in range(0, len(MIDI_dat[:, 0])):\n",
    "    MIDI_dat_dur[r, 0] = MIDI_dat[r, 0] + MIDI_dat[r, 1]\n",
    "tab_1, = np.where(np.logical_and(MIDI_dat[:, 0] >= start, MIDI_dat[:, 0] <= stop))\n",
    "tab_2, = np.where(np.logical_and(MIDI_dat_dur[:, 0] >= start, MIDI_dat_dur[:, 0] <= stop))\n",
    "tab_3, = np.where(np.logical_and(np.logical_and(MIDI_dat[:, 0] < start, MIDI_dat_dur[:, 0] > stop), MIDI_dat[:, 1] > int(stop-start)))\n",
    "if tab_1.size != 0 and tab_2.size == 0 and tab_3.size == 0:\n",
    "    tab_ind = tab_1\n",
    "if tab_1.size == 0 and tab_2.size != 0 and tab_3.size == 0:\n",
    "    tab_ind = tab_2\n",
    "if tab_1.size == 0 and tab_2.size == 0 and tab_3.size != 0:\n",
    "        tab_ind = tab_3\n",
    "if tab_1.size != 0 and tab_2.size != 0 and tab_3.size == 0:\n",
    "    tab_ind = np.concatenate([tab_1, tab_2])\n",
    "if tab_1.size != 0 and tab_2.size == 0 and tab_3.size != 0:\n",
    "    tab_ind = np.concatenate([tab_1, tab_3])\n",
    "if tab_1.size == 0 and tab_2.size != 0 and tab_3.size != 0:\n",
    "    tab_ind = np.concatenate([tab_2, tab_3])\n",
    "if tab_1.size != 0 and tab_2.size != 0 and tab_3.size != 0:\n",
    "    tab_ind = np.concatenate([tab_1, tab_2, tab_3])\n",
    "if tab_1.size == 0 and tab_2.size == 0 and tab_3.size == 0:\n",
    "    tab_ind = []\n",
    "if len(tab_ind) != 0:\n",
    "    MIDI_val = np.zeros((len(tab_ind), 1), dtype = np.float32)\n",
    "    for z in range(0, len(tab_ind)):\n",
    "        print(MIDI_dat[tab_ind[z]])\n",
    "        MIDI_val[z, 0] = int(round(MIDI_dat[tab_ind[z], 2]))\n",
    "elif len(tab_ind) == 0:\n",
    "    MIDI_val = []\n",
    "MIDI_val = np.unique(MIDI_val)\n",
    "if MIDI_val.size >= 6:\n",
    "    MIDI_val = np.delete(MIDI_val, np.s_[6::])\n",
    "\n",
    "print(MIDI_val)"
   ]
  },
  {
   "cell_type": "markdown",
   "metadata": {},
   "source": [
    "There can only be six possible notes being played at one time (maximum of one notes on each string); therefore, code will often be repeated six times.There can only be six possible notes being played at one time (maximum of one notes on each string); therefore, code will often be repeated six times."
   ]
  },
  {
   "cell_type": "markdown",
   "metadata": {},
   "source": [
    "## FretandSol.py"
   ]
  },
  {
   "cell_type": "code",
   "execution_count": 8,
   "metadata": {},
   "outputs": [
    {
     "name": "stdout",
     "output_type": "stream",
     "text": [
      "[[40 41 42 43 44 45 46 47 48 49 50 51 52 53 54 55 56 57]\n",
      " [45 46 47 48 49 50 51 52 53 54 55 56 57 58 59 60 61 62]\n",
      " [50 51 52 53 54 55 56 57 58 59 60 61 62 63 64 65 66 67]\n",
      " [55 56 57 58 59 60 61 62 63 64 65 66 67 68 69 70 71 72]\n",
      " [59 60 61 62 63 64 65 66 67 68 69 70 71 72 73 74 75 76]\n",
      " [64 65 66 67 68 69 70 71 72 73 74 75 76 77 78 79 80 81]]\n"
     ]
    }
   ],
   "source": [
    "# Initialize variables\n",
    "f_row = np.full((6, 6), np.inf)  # 6 strings with 1 note per string\n",
    "f_col = np.full((6, 6), np.inf)\n",
    "\n",
    "# Initialize variables\n",
    "Fret = np.zeros((6, 18), dtype = np.int32)\n",
    "Sol = np.copy(Fret)\n",
    "fcnt = -1\n",
    "fcnt2 = 0\n",
    "\n",
    "# Retrieve all possible notes played\n",
    "for q in range(0, 6):\n",
    "    for e in range(0, 18):\n",
    "        if q == 0:\n",
    "            Fret[q, e] = 40 + e\n",
    "        elif q == 1:\n",
    "            Fret[q, e] = 45 + e\n",
    "        elif q == 2:\n",
    "            Fret[q, e] = 50 + e\n",
    "        elif q == 3:\n",
    "            Fret[q, e] = 55 + e\n",
    "        elif q == 4:\n",
    "            Fret[q, e] = 59 + e\n",
    "        elif q == 5:\n",
    "            Fret[q, e] = 64 + e\n",
    "\n",
    "print(Fret)"
   ]
  },
  {
   "cell_type": "code",
   "execution_count": 9,
   "metadata": {},
   "outputs": [
    {
     "name": "stdout",
     "output_type": "stream",
     "text": [
      "[[0 0 0 0 0 0 0 0 0 0 0 0 0 0 0 1 0 0]\n",
      " [0 0 0 0 0 0 0 0 0 0 1 0 0 1 0 0 0 0]\n",
      " [0 0 0 0 0 1 0 0 1 0 0 0 0 0 1 0 0 0]\n",
      " [1 0 0 1 0 0 0 0 0 1 0 0 0 0 0 0 0 0]\n",
      " [0 0 0 0 0 1 0 0 0 0 0 0 0 0 0 0 0 0]\n",
      " [1 0 0 0 0 0 0 0 0 0 0 0 0 0 0 0 0 0]]\n"
     ]
    }
   ],
   "source": [
    "for t in range(0, len(MIDI_val)):\n",
    "    Fret_played = (Fret == int(MIDI_val[t]))\n",
    "    fcnt = fcnt + 1\n",
    "    cng = 0\n",
    "    for dr in range(0, len(Fret[:, 0])):\n",
    "        for dc in range(0, len(Fret[0, :])):\n",
    "            if Fret_played[dr, dc]*1 == 1:\n",
    "                if cng == 0:\n",
    "                    fcnt2 = 0\n",
    "                    cng = cng + 1\n",
    "                f_row[fcnt, fcnt2] = dr\n",
    "                f_col[fcnt, fcnt2] = dc\n",
    "                fcnt2 = fcnt2 + 1\n",
    "            Fret_played[dr, dc] = Fret_played[dr, dc]*1\n",
    "            if Fret_played[dr, dc] == 1:\n",
    "                Sol[dr, dc] = Fret_played[dr, dc]\n",
    "\n",
    "print(Sol.astype(int))"
   ]
  },
  {
   "cell_type": "code",
   "execution_count": 10,
   "metadata": {},
   "outputs": [
    {
     "name": "stdout",
     "output_type": "stream",
     "text": [
      "[[15. 10.  5.  0. inf inf]\n",
      " [13.  8.  3. inf inf inf]\n",
      " [14.  9.  5.  0. inf inf]\n",
      " [inf inf inf inf inf inf]\n",
      " [inf inf inf inf inf inf]\n",
      " [inf inf inf inf inf inf]]\n",
      "[[ 0.  1.  2.  3. inf inf]\n",
      " [ 1.  2.  3. inf inf inf]\n",
      " [ 2.  3.  4.  5. inf inf]\n",
      " [inf inf inf inf inf inf]\n",
      " [inf inf inf inf inf inf]\n",
      " [inf inf inf inf inf inf]]\n"
     ]
    }
   ],
   "source": [
    "print(f_col)\n",
    "print(f_row)"
   ]
  },
  {
   "cell_type": "markdown",
   "metadata": {},
   "source": [
    "First, a matrix (6, 18) of MIDI values which represents the six strings and 18 frets of a guitar is created under variable Fret:\n",
    "\n",
    "All possible locations of the unique notes retrieved on the guitar were then determined using Fret, where the matrix below shows a possible solution:\n",
    "\n",
    "All possible solutions for the combination of frets and strings must be determined. The idea of ‘finger economy’ is created — the lowest note of the chord, the root note, is compared to the rest of the notes in the chord where the number of frets (disregarding the string) each note is from the root note is summed to create a ‘finger economy’ number. The solution with the lowest ‘finger economy’ number is chosen as the correct chord shape."
   ]
  },
  {
   "cell_type": "markdown",
   "metadata": {},
   "source": [
    "## PossibleSolution.py"
   ]
  },
  {
   "cell_type": "code",
   "execution_count": 11,
   "metadata": {},
   "outputs": [],
   "source": [
    "# Initialize the 6 possible note solutions (one note per string)\n",
    "f_sol_0 = np.copy(f_col)\n",
    "f_sol_1 = np.copy(f_col)\n",
    "f_sol_2 = np.copy(f_col)\n",
    "f_sol_3 = np.copy(f_col)\n",
    "f_sol_4 = np.copy(f_col)\n",
    "f_sol_5 = np.copy(f_col)\n",
    "pri_cnt_c, = np.where(np.isfinite(f_col[0, :]))\n",
    "pri_cnt_r, = np.where(np.isfinite(f_col[:, 0]))\n",
    "if len(MIDI_val) > 1:\n",
    "    for pri in range(0, len(pri_cnt_c)):\n",
    "        for sub_r in range(1, 6):\n",
    "            for sub_c in range(0, len(f_sol_0[0, :])):\n",
    "                if pri == 0:\n",
    "                    f_sol_0[sub_r, sub_c] = abs(f_col[0, pri] - f_col[sub_r, sub_c])\n",
    "                if pri == 1:\n",
    "                    f_sol_1[sub_r, sub_c] = abs(f_col[0, pri] - f_col[sub_r, sub_c])\n",
    "                if pri == 2:\n",
    "                    f_sol_2[sub_r, sub_c] = abs(f_col[0, pri] - f_col[sub_r, sub_c])\n",
    "                if pri == 3:\n",
    "                    f_sol_3[sub_r, sub_c] = abs(f_col[0, pri] - f_col[sub_r, sub_c])\n",
    "                if pri == 4:\n",
    "                    f_sol_4[sub_r, sub_c] = abs(f_col[0, pri] - f_col[sub_r, sub_c])\n",
    "                if pri == 5:\n",
    "                    f_sol_5[sub_r, sub_c] = abs(f_col[0, pri] - f_col[sub_r, sub_c])\n",
    "if len(pri_cnt_r) == 0 or len(pri_cnt_c) == 0:\n",
    "    True_tab = np.copy(np.zeros((6, 18), dtype = np.int32))\n",
    "else:\n",
    "    ck_sol_0 = np.zeros((len(pri_cnt_r) - 1, len(pri_cnt_c) - 1), dtype = np.int32)\n",
    "    sol_ind_0 = np.copy(ck_sol_0)\n",
    "    ck_sol_1 = np.zeros((len(pri_cnt_r) - 1, len(pri_cnt_c) - 1), dtype = np.int32)\n",
    "    sol_ind_1 = np.copy(ck_sol_0)\n",
    "    ck_sol_2 = np.zeros((len(pri_cnt_r) - 1, len(pri_cnt_c) - 1), dtype = np.int32)\n",
    "    sol_ind_2 = np.copy(ck_sol_0)\n",
    "    ck_sol_3 = np.zeros((len(pri_cnt_r) - 1, len(pri_cnt_c) - 1), dtype = np.int32)\n",
    "    sol_ind_3 = np.copy(ck_sol_0)\n",
    "    ck_sol_4 = np.zeros((len(pri_cnt_r) - 1, len(pri_cnt_c) - 1), dtype = np.int32)\n",
    "    sol_ind_4 = np.copy(ck_sol_0)\n",
    "    ck_sol_5 = np.zeros((len(pri_cnt_r) - 1, len(pri_cnt_c) - 1), dtype = np.int32)\n",
    "    sol_ind_5 = np.copy(ck_sol_0)\n",
    "\n",
    "    # Replace infinite values with high finite values for each solution\n",
    "    for ck_sol in range(0, len(pri_cnt_c)):\n",
    "        for pri_sol_r in range(1, len(pri_cnt_r)):\n",
    "            for pri_sol_c in range(0, len(pri_cnt_c) - 1):  # Random - 1\n",
    "                if ck_sol == 0:\n",
    "                    if np.any(np.isinf(f_sol_0[pri_sol_r, :])):\n",
    "                        avoid_0 = np.argwhere(np.isinf(f_sol_0[pri_sol_r, :]))\n",
    "                        f_sol_0[pri_sol_r, avoid_0] = 999\n",
    "                if ck_sol == 1:\n",
    "                    if np.any(np.isinf(f_sol_1[pri_sol_r, :])):\n",
    "                        avoid_1 = np.argwhere(np.isinf(f_sol_1[pri_sol_r, :]))\n",
    "                        f_sol_1[pri_sol_r, avoid_1] = 999\n",
    "                    ck_sol_1[0, pri_sol_c] = min(f_sol_1[pri_sol_r, :])\n",
    "                if ck_sol == 2:\n",
    "                    if np.any(np.isinf(f_sol_2[pri_sol_r, :])):\n",
    "                        avoid_2 = np.argwhere(np.isinf(f_sol_2[pri_sol_r, :]))\n",
    "                        f_sol_2[pri_sol_r, avoid_2] = 999\n",
    "                    ck_sol_2[0, pri_sol_c] = min(f_sol_2[pri_sol_r, :])\n",
    "                if ck_sol == 3:\n",
    "                    if np.any(np.isinf(f_sol_3[pri_sol_r, :])):\n",
    "                        avoid_3 = np.argwhere(np.isinf(f_sol_3[pri_sol_r, :]))\n",
    "                        f_sol_3[pri_sol_r, avoid_3] = 999\n",
    "                    ck_sol_3[0, pri_sol_c] = min(f_sol_3[pri_sol_r, :])\n",
    "                if ck_sol == 4:\n",
    "                    if np.any(np.isinf(f_sol_4[pri_sol_r, :])):\n",
    "                        avoid_4 = np.argwhere(np.isinf(f_sol_4[pri_sol_r, :]))\n",
    "                        f_sol_4[pri_sol_r, avoid_4] = 999\n",
    "                    ck_sol_4[0, pri_sol_c] = min(f_sol_4[pri_sol_r, :])\n",
    "                if ck_sol == 5:\n",
    "                    if np.any(np.isinf(f_sol_5[pri_sol_r, :])):\n",
    "                        avoid_5 = np.argwhere(np.isinf(f_sol_5[pri_sol_r, :]))\n",
    "                        f_sol_5[pri_sol_r, avoid_5] = 999\n",
    "                    ck_sol_5[0, pri_sol_c] = min(f_sol_5[pri_sol_r, :])\n",
    "\n",
    "    # Determine \"rating\" for each solution\n",
    "    tab_sol_0 = np.argmin(f_sol_0, axis = 1)\n",
    "    min_sol_0 = np.min(f_sol_0, axis = 1)\n",
    "    if np.any(np.isinf(min_sol_0[:])):\n",
    "        rep_0 = np.argwhere(np.isinf(min_sol_0[:]))\n",
    "        min_sol_0[rep_0] = 0\n",
    "    tab_sol_1 = np.argmin(f_sol_1, axis = 1)\n",
    "    min_sol_1 = np.min(f_sol_1, axis = 1)\n",
    "    if np.any(np.isinf(min_sol_1[:])):\n",
    "        rep_1 = np.argwhere(np.isinf(min_sol_1[:]))\n",
    "        min_sol_1[rep_1] = 0\n",
    "    tab_sol_2 = np.argmin(f_sol_2, axis = 1)\n",
    "    min_sol_2 = np.min(f_sol_2, axis = 1)\n",
    "    if np.any(np.isinf(min_sol_2[:])):\n",
    "        rep_2 = np.argwhere(np.isinf(min_sol_2[:]))\n",
    "        min_sol_2[rep_2] = 0\n",
    "    tab_sol_3 = np.argmin(f_sol_3, axis = 1)\n",
    "    min_sol_3 = np.min(f_sol_3, axis = 1)\n",
    "    if np.any(np.isinf(min_sol_3[:])):\n",
    "        rep_3 = np.argwhere(np.isinf(min_sol_3[:]))\n",
    "        min_sol_3[rep_3] = 0\n",
    "    tab_sol_4 = np.argmin(f_sol_4, axis = 1)\n",
    "    min_sol_4 = np.min(f_sol_4, axis = 1)\n",
    "    if np.any(np.isinf(min_sol_4[:])):\n",
    "        rep_4 = np.argwhere(np.isinf(min_sol_4[:]))\n",
    "        min_sol_4[rep_4] = 0\n",
    "    tab_sol_5 = np.argmin(f_sol_5, axis = 1)\n",
    "    min_sol_5 = np.min(f_sol_5, axis = 1)\n",
    "    if np.any(np.isinf(min_sol_5[:])):\n",
    "        rep_5 = np.argwhere(np.isinf(min_sol_5[:]))\n",
    "        min_sol_5[rep_5] = 0\n",
    "    sol_0 = np.sum(min_sol_0[:])\n",
    "    sol_1 = np.sum(min_sol_1[:])\n",
    "    sol_2 = np.sum(min_sol_2[:])\n",
    "    sol_3 = np.sum(min_sol_3[:])\n",
    "    sol_4 = np.sum(min_sol_4[:])\n",
    "    sol_5 = np.sum(min_sol_4[:])\n"
   ]
  },
  {
   "cell_type": "markdown",
   "metadata": {},
   "source": [
    "Although this method does not always match the correct version of the chord being played in the recording, it does not negatively affect performance of the CNN as a C major chord played in the open position does not differ than C major played on the 8th fret.\n",
    "The final solution is subsequently chosen using a combination of the strings and frets arrays in the final solution:"
   ]
  },
  {
   "cell_type": "markdown",
   "metadata": {},
   "source": [
    "## FinalSolution.py"
   ]
  },
  {
   "cell_type": "code",
   "execution_count": 12,
   "metadata": {},
   "outputs": [
    {
     "name": "stderr",
     "output_type": "stream",
     "text": [
      "/home/gabriele/venv/lib/python3.5/site-packages/ipykernel_launcher.py:24: DeprecationWarning: The truth value of an empty array is ambiguous. Returning False, but in future this will result in an error. Use `array.size > 0` to check that an array is not empty.\n"
     ]
    }
   ],
   "source": [
    "# Initalize variables\n",
    "acc_sol = False\n",
    "idx_pass = False\n",
    "\n",
    "# Choose best solution based on previous rating\n",
    "if len(pri_cnt_c) == 1:\n",
    "    fin_sol_arr = sol_0\n",
    "if len(pri_cnt_c) == 2:\n",
    "    fin_sol_arr = np.append(sol_0, sol_1)\n",
    "if len(pri_cnt_c) == 3:\n",
    "    fin_sol_arr = np.append(np.append(sol_0, sol_1), sol_2)\n",
    "if len(pri_cnt_c) == 4:\n",
    "    fin_sol_arr = np.append(np.append(sol_0, sol_1), np.append(sol_2, sol_3))\n",
    "if len(pri_cnt_c) == 5:\n",
    "    fin_sol_arr = np.array(np.append(np.append(sol_0, sol_1), np.append(sol_2, sol_3)), sol_4)\n",
    "if len(pri_cnt_c) == 6:\n",
    "    fin_sol_arr = np.array(np.append(np.append(sol_0, sol_1), np.append(sol_2, sol_3)), np.append(sol_4, sol_5))\n",
    "fin_choice = np.argmin(fin_sol_arr)\n",
    "response, ret_cnts, ret_idx = np.unique(fin_sol_arr, return_counts = True, return_index = True)\n",
    "ret_idx = [np.argwhere(idx_cnt == fin_sol_arr) for idx_cnt in np.unique(fin_sol_arr)]\n",
    "for idx_cnt_row in range(0, len(ret_idx)):\n",
    "    if np.amin(response) == np.amin(fin_sol_arr) and len(ret_idx[idx_cnt_row]) > 2:\n",
    "        fin_sol_arr = np.delete(fin_sol_arr, np.argwhere(np.amin(fin_sol_arr)))\n",
    "if np.amin(response) == np.amin(fin_sol_arr) and ret_cnts[np.argwhere(np.amin(fin_sol_arr))] > 2:\n",
    "    fin_sol_arr = np.delete(fin_sol_arr, np.argwhere(np.amin(fin_sol_arr)))\n",
    "    fin_choice = np.argmin(fin_sol_arr)\n",
    "\n",
    "# Choose solution and choose the next best solution if there are two notes on one string\n",
    "while acc_sol == False:\n",
    "    fin_tab_row = np.zeros((len(pri_cnt_r)), dtype = np.int32)\n",
    "    fin_tab_col = np.zeros((len(pri_cnt_r)), dtype = np.int32)\n",
    "    if fin_choice == 0:\n",
    "        fin_tab_row[0] = f_row[0, 0]\n",
    "        fin_tab_col[0] = f_col[0, 0]\n",
    "        for counter in range(1, len(pri_cnt_r)):\n",
    "            fin_tab_row[counter] = f_row[counter, tab_sol_0[counter]]\n",
    "            fin_tab_col[counter] = f_col[counter, tab_sol_0[counter]]\n",
    "    if fin_choice == 1:\n",
    "        fin_tab_row[0] = f_row[0, 1]\n",
    "        fin_tab_col[0] = f_col[0, 1]\n",
    "        for counter in range(1, len(pri_cnt_r)):\n",
    "            fin_tab_row[counter] = f_row[counter, tab_sol_1[counter]]\n",
    "            fin_tab_col[counter] = f_col[counter, tab_sol_1[counter]]\n",
    "    if fin_choice == 2:\n",
    "        fin_tab_row[0] = f_row[0, 2]\n",
    "        fin_tab_col[0] = f_col[0, 2]\n",
    "        for counter in range(1, len(pri_cnt_r)):\n",
    "            fin_tab_row[counter] = f_row[counter, tab_sol_2[counter]]\n",
    "            fin_tab_col[counter] = f_col[counter, tab_sol_2[counter]]\n",
    "    if fin_choice == 3:\n",
    "        fin_tab_row[0] = f_row[0, 3]\n",
    "        fin_tab_col[0] = f_col[0, 3]\n",
    "        for counter in range(1, len(pri_cnt_r)):\n",
    "            fin_tab_row[counter] = f_row[counter, tab_sol_3[counter]]\n",
    "            fin_tab_col[counter] = f_col[counter, tab_sol_3[counter]]\n",
    "    if fin_choice == 4:\n",
    "        fin_tab_row[0] = f_row[0, 4]\n",
    "        fin_tab_col[0] = f_col[0, 4]\n",
    "        for counter in range(1, len(pri_cnt_r)):\n",
    "            fin_tab_row[counter] = f_row[counter, tab_sol_4[counter]]\n",
    "            fin_tab_col[counter] = f_col[counter, tab_sol_4[counter]]\n",
    "    if fin_choice == 5:\n",
    "        fin_tab_row[0] = f_row[0, 5]\n",
    "        fin_tab_col[0] = f_col[0, 5]\n",
    "        for counter in range(1, len(pri_cnt_r)):\n",
    "            fin_tab_row[counter] = f_row[counter, tab_sol_5[counter]]\n",
    "            fin_tab_col[counter] = f_col[counter, tab_sol_5[counter]]\n",
    "    acc_sol = True\n",
    "    idx_cnt = [np.argwhere(uni_cnt == fin_tab_row) for uni_cnt in np.unique(fin_tab_row)]\n",
    "    max_len_cnt = np.zeros((len(idx_cnt)), dtype = np.int32)\n",
    "    for str_cnt_row in range(0, len(idx_cnt)):\n",
    "        if len(idx_cnt[str_cnt_row]) > 1:\n",
    "            fin_sol_arr = fin_sol_arr.astype('int64')\n",
    "            if fin_sol_arr.size > 1:\n",
    "                fin_sol_arr = np.delete(fin_sol_arr, fin_choice)\n",
    "                idx_pass = True\n",
    "                acc_sol = False\n",
    "                break\n",
    "            else:\n",
    "                continue\n",
    "    fin_choice = np.argmin(fin_sol_arr)\n",
    "fin_tab_row = abs(fin_tab_row - 5)\n",
    "\n",
    "# Return the final tab\n",
    "True_tab = np.copy(np.zeros((6, 18), dtype = np.int32))\n",
    "for tt_cnt in range(0, len(fin_tab_col)):\n",
    "    True_tab[fin_tab_row[tt_cnt], fin_tab_col[tt_cnt]] = 1"
   ]
  },
  {
   "cell_type": "markdown",
   "metadata": {},
   "source": [
    "Additionally, in the first column for each row, if there exists a note (1 in the row), a zero is appended and vice versa if a note does not exist. This is done so the softmax function can still choose a category for strings without a note being played.\n",
    "The previous code snippets return data such that the output is similar to a one-hot encoding of categories, the following matrix format was returned for each 0.2 seconds of audio:\n",
    "\n",
    "The above matrix is the guitar tab solution for one random 0.2 second selection from the GuitarSet data set. Each matrix shape is (6, 19) where the six rows correspond to each guitar string (eBGDAE from top to bottom). The first column identifies whether that the string is not being played, the second column identifies if the open string is being played, and the third through nineteenth columns identify the specific fret that is being played starting from the first fret. When training, this matrix is broken up into six separate arrays to train each head of the model."
   ]
  },
  {
   "cell_type": "code",
   "execution_count": 13,
   "metadata": {},
   "outputs": [
    {
     "name": "stdout",
     "output_type": "stream",
     "text": [
      "[[0 0 0 0 0 0 0 0 0 0 0 0 0 0 0 0 0 0]\n",
      " [0 0 0 0 0 1 0 0 0 0 0 0 0 0 0 0 0 0]\n",
      " [0 0 0 1 0 0 0 0 0 0 0 0 0 0 0 0 0 0]\n",
      " [0 0 0 0 0 1 0 0 0 0 0 0 0 0 0 0 0 0]\n",
      " [0 0 0 0 0 0 0 0 0 0 0 0 0 0 0 0 0 0]\n",
      " [0 0 0 0 0 0 0 0 0 0 0 0 0 0 0 0 0 0]]\n"
     ]
    }
   ],
   "source": [
    "print(True_tab)"
   ]
  },
  {
   "cell_type": "code",
   "execution_count": 45,
   "metadata": {},
   "outputs": [
    {
     "name": "stdout",
     "output_type": "stream",
     "text": [
      "[[1 0 0 0 0 0 0 0 0 0 0 0 0 0 0 0 0 0 0]\n",
      " [0 0 0 0 0 0 1 0 0 0 0 0 0 0 0 0 0 0 0]\n",
      " [0 0 0 0 1 0 0 0 0 0 0 0 0 0 0 0 0 0 0]\n",
      " [0 0 0 0 0 0 1 0 0 0 0 0 0 0 0 0 0 0 0]\n",
      " [1 0 0 0 0 0 0 0 0 0 0 0 0 0 0 0 0 0 0]\n",
      " [1 0 0 0 0 0 0 0 0 0 0 0 0 0 0 0 0 0 0]]\n"
     ]
    }
   ],
   "source": [
    "True_tab2 = np.c_[np.zeros(6, dtype = np.int32), True_tab]\n",
    "\n",
    "value = 1\n",
    "\n",
    "for i in range(6):\n",
    "    if value not in True_tab2[i, :]:\n",
    "        True_tab2[i, 0] = 1\n",
    "    \n",
    "print(True_tab2)"
   ]
  },
  {
   "cell_type": "code",
   "execution_count": null,
   "metadata": {},
   "outputs": [],
   "source": []
  },
  {
   "cell_type": "code",
   "execution_count": null,
   "metadata": {},
   "outputs": [],
   "source": []
  }
 ],
 "metadata": {
  "kernelspec": {
   "display_name": "Python 3",
   "language": "python",
   "name": "python3"
  },
  "language_info": {
   "codemirror_mode": {
    "name": "ipython",
    "version": 3
   },
   "file_extension": ".py",
   "mimetype": "text/x-python",
   "name": "python",
   "nbconvert_exporter": "python",
   "pygments_lexer": "ipython3",
   "version": "3.5.10"
  }
 },
 "nbformat": 4,
 "nbformat_minor": 4
}
